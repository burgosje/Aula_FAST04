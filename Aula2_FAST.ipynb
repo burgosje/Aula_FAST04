{
  "nbformat": 4,
  "nbformat_minor": 0,
  "metadata": {
    "colab": {
      "provenance": [],
      "authorship_tag": "ABX9TyMxnDZjtgByHEwd2jfQz0rH",
      "include_colab_link": true
    },
    "kernelspec": {
      "name": "python3",
      "display_name": "Python 3"
    },
    "language_info": {
      "name": "python"
    }
  },
  "cells": [
    {
      "cell_type": "markdown",
      "metadata": {
        "id": "view-in-github",
        "colab_type": "text"
      },
      "source": [
        "<a href=\"https://colab.research.google.com/github/burgosje/Aula_FAST04/blob/main/Aula2_FAST.ipynb\" target=\"_parent\"><img src=\"https://colab.research.google.com/assets/colab-badge.svg\" alt=\"Open In Colab\"/></a>"
      ]
    },
    {
      "cell_type": "markdown",
      "source": [
        "Aula 02 FAST Transição Cesar School"
      ],
      "metadata": {
        "id": "28vskfrxwa8I"
      }
    },
    {
      "cell_type": "markdown",
      "source": [
        "Estruturas condicionas"
      ],
      "metadata": {
        "id": "O6-Nc_V_jofJ"
      }
    },
    {
      "cell_type": "code",
      "execution_count": null,
      "metadata": {
        "id": "cbqRoIKJKTyr"
      },
      "outputs": [],
      "source": [
        "Estrutura de decisão\n",
        "\n",
        "True\n",
        "False"
      ]
    },
    {
      "cell_type": "code",
      "source": [
        "Se\n",
        "Se-senao\n",
        "Se-senao se-senao"
      ],
      "metadata": {
        "id": "MjKB56zckCHq"
      },
      "execution_count": null,
      "outputs": []
    },
    {
      "cell_type": "markdown",
      "source": [
        "Estrutura condicional simples"
      ],
      "metadata": {
        "id": "wjf1l8CQkLW3"
      }
    },
    {
      "cell_type": "code",
      "source": [
        "if:\n",
        "  identação - tab"
      ],
      "metadata": {
        "id": "9Yvt0q4EkRXK"
      },
      "execution_count": null,
      "outputs": []
    },
    {
      "cell_type": "code",
      "source": [
        "valor_compra = float(input(\"Digite o valor da compra: \"))\n",
        "cupom = input('Digite o cupom de desconto: ')\n",
        "\n",
        "if cupom == 'CESAR' or cupom == 'CESARSCH':\n",
        "  desconto = valor_compra - (valor_compra*0.15)"
      ],
      "metadata": {
        "id": "tjJAJPTLkkSP"
      },
      "execution_count": null,
      "outputs": []
    },
    {
      "cell_type": "code",
      "source": [
        "a = int(input('Digite uma variável: '))\n",
        "b = int(input('Digite outra variável: '))\n",
        "\n",
        "if 4*a+3==b:\n",
        "  print('Equação verdadeira')\n",
        "#Resposta: 1 e 7\n",
        "#Resposta: 12 e 11"
      ],
      "metadata": {
        "colab": {
          "base_uri": "https://localhost:8080/"
        },
        "id": "iVtRub2qk4OZ",
        "outputId": "7c6ae33f-4b38-4a36-c1ef-6d0e1c6244ef"
      },
      "execution_count": null,
      "outputs": [
        {
          "output_type": "stream",
          "name": "stdout",
          "text": [
            "Digite uma variável: 1\n",
            "Digite outra variável: 7\n",
            "Equação verdadeira\n"
          ]
        }
      ]
    },
    {
      "cell_type": "code",
      "source": [
        "a = 3\n",
        "print(a)"
      ],
      "metadata": {
        "colab": {
          "base_uri": "https://localhost:8080/"
        },
        "id": "Fnw-KbXal8gf",
        "outputId": "1720a43a-28d6-4887-94b4-6f420dbb6a64"
      },
      "execution_count": null,
      "outputs": [
        {
          "output_type": "stream",
          "name": "stdout",
          "text": [
            "3\n"
          ]
        }
      ]
    },
    {
      "cell_type": "code",
      "source": [
        "a = 3\n",
        "b = 5\n",
        "print(a + b)"
      ],
      "metadata": {
        "colab": {
          "base_uri": "https://localhost:8080/"
        },
        "id": "-Zju65t1mF9K",
        "outputId": "41a19d39-81cd-4771-a729-2fcaa201ba59"
      },
      "execution_count": null,
      "outputs": [
        {
          "output_type": "stream",
          "name": "stdout",
          "text": [
            "8\n"
          ]
        }
      ]
    },
    {
      "cell_type": "code",
      "source": [
        "velocidade = float(input('Qual a velocidade do carro em km/h? '))\n",
        "\n",
        "if velocidade > 80:\n",
        "  print('Perigo! Você excedeu o limite de velocidade e foi multado')\n",
        "  multa = (velocidade - 80) * 5\n",
        "  print('Você deve pagar uma multa de R$ {:.2f} e dirigir com mais cuidado!'.format(multa))\n",
        "  #print(f'Você deve pagar uma multa de R$ {multa:.2f} e dirigir com mais cuidado!)\n",
        "\n",
        "else:\n",
        "  print('Arrasou! Tenha um bom dia e dirija com segurança.')"
      ],
      "metadata": {
        "colab": {
          "base_uri": "https://localhost:8080/"
        },
        "id": "-WHygrBZnhuG",
        "outputId": "72e562cb-eacd-4fe3-95a4-74ff579d5633"
      },
      "execution_count": null,
      "outputs": [
        {
          "output_type": "stream",
          "name": "stdout",
          "text": [
            "Qual a velocidade do carro? 50\n",
            "Arrasou! Tenha um bom dia e dirija com segurança.\n"
          ]
        }
      ]
    },
    {
      "cell_type": "markdown",
      "source": [
        "Estrutura composta"
      ],
      "metadata": {
        "id": "adJTT0EKqsX3"
      }
    },
    {
      "cell_type": "code",
      "source": [
        "if:\n",
        "\n",
        "else:"
      ],
      "metadata": {
        "id": "f-HGlJTlqp_j"
      },
      "execution_count": null,
      "outputs": []
    },
    {
      "cell_type": "code",
      "source": [
        "n1 = int(input('Digite o primeiro número inteiro: '))\n",
        "n2 = int(input('Digite o segundo número inteiro: '))\n",
        "\n",
        "soma = n1 + n2\n",
        "\n",
        "if soma > 10:\n",
        "  print('O resultado é: ',soma+5)\n",
        "else:\n",
        "  print('O resultado é: ',soma-1)"
      ],
      "metadata": {
        "colab": {
          "base_uri": "https://localhost:8080/"
        },
        "id": "xttc104yq7wm",
        "outputId": "9aac3d77-b5c3-4d6e-dbb2-c5ec4e0d325f"
      },
      "execution_count": null,
      "outputs": [
        {
          "output_type": "stream",
          "name": "stdout",
          "text": [
            "Digite o primeiro número inteiro: 2\n",
            "Digite o segundo número inteiro: 2\n",
            "O resultado é: 3\n"
          ]
        }
      ]
    },
    {
      "cell_type": "code",
      "source": [
        "nome = input('Digite o nome de cliente: ')\n",
        "sexo = input('Digite o sexo de cliente (F ou M): ')\n",
        "valor_compra = float(input('Digite o valor da compra: R$'))\n",
        "\n",
        "if sexo == \"F\":\n",
        "  desconto = valor_compra * 0.13\n",
        "else:\n",
        "  desconto = valor_compra * 0.05\n",
        "\n",
        "total_pagar = valor_compra - desconto\n",
        "  print(f'Cliente: '{nome})\n",
        "  print(f'Valor da compra: R$ '{valor_compra})\n",
        "  print(f'Desconto: R$ '{desconto})\n",
        "  print(f'Valor a pagar: R$ '{total_pagar})"
      ],
      "metadata": {
        "colab": {
          "base_uri": "https://localhost:8080/",
          "height": 140
        },
        "id": "u_6OAQ1ntfH7",
        "outputId": "0a742ce0-ebc1-4dd8-b990-24b23e8b88a8"
      },
      "execution_count": null,
      "outputs": [
        {
          "output_type": "error",
          "ename": "IndentationError",
          "evalue": "ignored",
          "traceback": [
            "\u001b[0;36m  File \u001b[0;32m\"<ipython-input-22-0b194d7f2a41>\"\u001b[0;36m, line \u001b[0;32m11\u001b[0m\n\u001b[0;31m    print(f'Cliente: ',{nome})\u001b[0m\n\u001b[0m    ^\u001b[0m\n\u001b[0;31mIndentationError\u001b[0m\u001b[0;31m:\u001b[0m unexpected indent\n"
          ]
        }
      ]
    },
    {
      "cell_type": "code",
      "source": [
        "level = int(input('Digite o level do Voltorb: '))\n",
        "\n",
        "if level >= 1 and level <= 20:\n",
        "  potencia = 20 + level**3\n",
        "elif level >= 21 and level <= 40:\n",
        "  potencia = 8000 + (level-10)**2\n",
        "elif level >= 41 and level <= 60:\n",
        "  potencia = 9000 + 5*level\n",
        "elif level >= 61 and level <= 80:\n",
        "  potencia = 9300 + 2*level\n",
        "elif level >= 81 and level <= 100:\n",
        "  potencia = 9500 + level\n",
        "else:\n",
        "  print('Valor inválido')\n",
        "\n",
        "print(f'A potência é de: {potencia}')"
      ],
      "metadata": {
        "colab": {
          "base_uri": "https://localhost:8080/"
        },
        "id": "DW120InLymkI",
        "outputId": "3486379c-6f80-48d2-fedd-cdeac95ec499"
      },
      "execution_count": null,
      "outputs": [
        {
          "output_type": "stream",
          "name": "stdout",
          "text": [
            "Digite o level do Voltorb: 333\n",
            "Valor inválido\n",
            "A potência é de: 9588\n"
          ]
        }
      ]
    },
    {
      "cell_type": "code",
      "source": [
        "idade = int(input('Digite sua idade: '))\n",
        "\n",
        "if idade < 4 or idade > 60:\n",
        "  print('Entrada gratuita')\n",
        "elif idade >= 4 and idade <= 18:\n",
        "  print('A entrada custa R$ 20,00')\n",
        "else:\n",
        "  print('A entrada custa R$ 30,00')"
      ],
      "metadata": {
        "colab": {
          "base_uri": "https://localhost:8080/"
        },
        "id": "6hBAMghJ0r9r",
        "outputId": "9893a6eb-74f4-4eca-af7d-97cf16171b5f"
      },
      "execution_count": null,
      "outputs": [
        {
          "output_type": "stream",
          "name": "stdout",
          "text": [
            "Digite sua idade: 20\n",
            "A entrada custa R$ 30,00\n"
          ]
        }
      ]
    },
    {
      "cell_type": "code",
      "source": [
        "consumo = int(input('Digite seu cosumo em kw: '))\n",
        "\n",
        "if consumo <= 500:\n",
        "  tarifa = 0.02\n",
        "  conta = (consumo * tarifa) + 5\n",
        "  print(f'Seu consumo foi de {consumo} e o valor da sua conta é de R$ {conta:.2f}')\n",
        "elif consumo > 500 and consumo <= 1000:\n",
        "  tarifa = 10.0\n",
        "  conta = (consumo * tarifa) + 5\n",
        "  print(f'Seu consumo foi de {consumo} e o valor da sua conta é de R$ {conta:.2f}')\n",
        "elif consumo > 1000:\n",
        "  tarifa = 35.0\n",
        "  conta = (consumo * tarifa) + 5\n",
        "  print(f'Seu consumo foi de {consumo} e o valor da sua conta é de R$ {conta:.2f}')\n",
        "\n"
      ],
      "metadata": {
        "colab": {
          "base_uri": "https://localhost:8080/"
        },
        "id": "GwjF26E6399O",
        "outputId": "126cf6ae-07f5-4e19-a521-31e2d2a034a4"
      },
      "execution_count": null,
      "outputs": [
        {
          "output_type": "stream",
          "name": "stdout",
          "text": [
            "Digite seu cosumo em kw: 1111\n",
            "Seu consumo foi de 1111 e o valor da sua conta é de R$ 38890.00\n"
          ]
        }
      ]
    },
    {
      "cell_type": "code",
      "source": [
        "consumo = float(input('Digite o valor do consumo em kw: '))\n",
        "\n",
        "if consumo  <= 500:\n",
        "  print('O valor da conta é R$ ', consumo*0.02+5.00)\n",
        "elif consumo > 500 and consumo <= 1000:\n",
        "  print('O valor da conta é R$ ', consumo*10.00+5.00)\n",
        "else:\n",
        "  print('O valor da conta é R$ ', consumo*35.00+5.00)"
      ],
      "metadata": {
        "colab": {
          "base_uri": "https://localhost:8080/"
        },
        "id": "w-qAc4BX6jNu",
        "outputId": "7bf2a24a-b385-41ef-d768-4e26d56f1dd4"
      },
      "execution_count": null,
      "outputs": [
        {
          "output_type": "stream",
          "name": "stdout",
          "text": [
            "Digite o valor do consumo em kw: 5555\n",
            "O valor da conta é R$  194430.0\n"
          ]
        }
      ]
    },
    {
      "cell_type": "markdown",
      "source": [
        "Estruturas condicionais encadeadas"
      ],
      "metadata": {
        "id": "XpCaDfr_736V"
      }
    },
    {
      "cell_type": "code",
      "source": [
        "tempo = int(input('Digite há quanto tempo você não recebe aumento: '))\n",
        "salario = float(input('Digite seu salário: '))\n",
        "\n",
        "if tempo > 10:\n",
        "  ajuste = salario * 0.3\n",
        "  print(f'Seu ajuste salarial é de: R$ {ajuste:.2f}')\n",
        "elif tempo >= 5 and tempo <= 10:\n",
        "  ajuste = salario * 0.2\n",
        "  print(f'Seu ajuste salarial é de: R$ {ajuste:.2f}')\n",
        "elif tempo < 5:\n",
        "  ajuste = salario * 0.1\n",
        "  print(f'Seu ajuste salarial é de: R$ {ajuste:.2f}')\n",
        "  if tempo < 2:\n",
        "    print('Você não está apto a receber reajuste salarial coletivo')"
      ],
      "metadata": {
        "colab": {
          "base_uri": "https://localhost:8080/"
        },
        "id": "wiw31Vag7q8h",
        "outputId": "0e242854-0758-4369-eebf-a3318a1627b4"
      },
      "execution_count": null,
      "outputs": [
        {
          "output_type": "stream",
          "name": "stdout",
          "text": [
            "Digite há quanto tempo você não recebe aumento: 1\n",
            "Digite seu salário: 1000\n",
            "Seu ajuste salarial é de: R$ 100.00\n",
            "Você não está apto a receber reajuste salarial coletivo\n"
          ]
        }
      ]
    },
    {
      "cell_type": "code",
      "source": [
        "n1 = float(input('Digite a primeira nota: '))\n",
        "n2 = float(input('Digite a segunda nota: '))\n",
        "n3 = float(input('Digite a terceira nota: '))\n",
        "\n",
        "media_ponderada = ((n1 * 2) + (n2 * 3) + (n3 * 5)) / 10\n",
        "\n",
        "if media_ponderada <= 4.9:\n",
        "  print('Que pena! Você está reprovade.')\n",
        "elif media_ponderada >= 5.0 and media_ponderada <= 6.9:\n",
        "  print('Quase lá! Você está na recuperação.')\n",
        "else:\n",
        "  print('Arrasou! Você está aprovade!')"
      ],
      "metadata": {
        "colab": {
          "base_uri": "https://localhost:8080/"
        },
        "id": "QxFNNcLhCTUl",
        "outputId": "3aac5557-0367-4154-d217-8ecb9f9e6fc5"
      },
      "execution_count": null,
      "outputs": [
        {
          "output_type": "stream",
          "name": "stdout",
          "text": [
            "Digite a primeira nota: 10\n",
            "Digite a segunda nota: 9\n",
            "Digite a terceira nota: 8\n",
            "Arrasou! Você está aprovade!\n"
          ]
        }
      ]
    },
    {
      "cell_type": "code",
      "source": [
        "estado_civil = input('Digite o estado civil: ')\n",
        "\n",
        "if estado_civil == 'S':\n",
        "  print('Pessoa solteira')\n",
        "elif estado_civil == 'C':\n",
        "  print('Pessoa casada')\n",
        "elif estado_civil == 'V':\n",
        "  print('Pessoa viúva')\n",
        "elif estado_civil == 'D':\n",
        "  print('Pessoa divorciada')\n",
        "else:\n",
        "  print('Error')"
      ],
      "metadata": {
        "colab": {
          "base_uri": "https://localhost:8080/"
        },
        "id": "w_KRagvAFVgd",
        "outputId": "8ed900ac-706d-4dd9-e6b1-e3e5f48410a0"
      },
      "execution_count": null,
      "outputs": [
        {
          "output_type": "stream",
          "name": "stdout",
          "text": [
            "Digite o estado civil: E\n",
            "Error\n"
          ]
        }
      ]
    },
    {
      "cell_type": "code",
      "source": [
        "minutos = int(input('Quantos minutos faltam para a hora de ir embora? '))\n",
        "tempo1 = int(input('Quanto tempo você precisa para fabricar o primeiro presente? '))\n",
        "tempo2 = int(input('Quanto tempo você precisa para fabricar o segundo presente?'))\n",
        "\n",
        "if minutos >= (tempo1) + (tempo2):\n",
        "  print('Você conseguirá fabricar os presentes')\n",
        "else:\n",
        "  print('Que pena, Ed! Você terá que terminar amanhã')"
      ],
      "metadata": {
        "colab": {
          "base_uri": "https://localhost:8080/"
        },
        "id": "Ij-kSbzJEles",
        "outputId": "e2006188-a08f-4c18-a3ac-29e455f723eb"
      },
      "execution_count": null,
      "outputs": [
        {
          "output_type": "stream",
          "name": "stdout",
          "text": [
            "Quantos minutos faltam para a hora de ir embora? 50\n",
            "Quanto tempo você precisa para fabricar o primeiro presente? 50\n",
            "Quanto tempo você precisa para fabricar o segundo presente?10\n",
            "Que pena, Ed! Você terá que terminar amanhã\n"
          ]
        }
      ]
    },
    {
      "cell_type": "code",
      "source": [
        "idade = int(input('Digite sua idade: '))\n",
        "\n",
        "if idade >= 16 and idade <= 18:\n",
        "  print('Categoria juvenil')\n",
        "elif idade >= 14 and idade <= 15:\n",
        "  print('Categoria infantil')\n",
        "elif idade >= 12 and idade <= 13:\n",
        "  print('Categoria mirim')\n",
        "elif idade >= 10 and idade <= 11:\n",
        "  print('Categoria pré-mirim')\n",
        "else:\n",
        "  print('Categoria não registrada')"
      ],
      "metadata": {
        "colab": {
          "base_uri": "https://localhost:8080/"
        },
        "id": "s3Zg3ZZVG89t",
        "outputId": "4237fdcd-d8ba-41c6-9c90-413fb747afd6"
      },
      "execution_count": null,
      "outputs": [
        {
          "output_type": "stream",
          "name": "stdout",
          "text": [
            "Digite sua idade: 20\n",
            "Categoria não registrada\n"
          ]
        }
      ]
    },
    {
      "cell_type": "code",
      "source": [
        "altura = float(input('Digite sua altura em m: '))\n",
        "peso = float(input('Digite seu peso em kg: '))\n",
        "\n",
        "imc = peso / altura ** 2\n",
        "\n",
        "if imc < 18.5:\n",
        "  print('Abaixo do peso')\n",
        "elif imc >= 18.5 and imc <= 24.9:\n",
        "  print('Peso ideal')\n",
        "elif imc >= 25 and imc <= 29.9:\n",
        "  print('Sobrepeso')\n",
        "elif imc >= 30 and imc <= 39.9:\n",
        "  print('Obesidade')\n",
        "else:\n",
        "  print('Obesidade mórbida')"
      ],
      "metadata": {
        "colab": {
          "base_uri": "https://localhost:8080/"
        },
        "id": "MXP0HxB4H_S5",
        "outputId": "8404fc1d-19e3-431c-a50c-973ef5b43ef9"
      },
      "execution_count": null,
      "outputs": [
        {
          "output_type": "stream",
          "name": "stdout",
          "text": [
            "Digite sua altura em m: 1.7\n",
            "Digite seu peso em kg: 150\n",
            "Obesidade mórbida\n"
          ]
        }
      ]
    },
    {
      "cell_type": "code",
      "source": [
        "valor = float(input('Digite um valor: '))\n",
        "\n",
        "if valor >= 0 and valor <= 25:\n",
        "  print(f'O valor {valor} se encontra entre 0 e 25')\n",
        "elif valor > 25 and valor <= 50:\n",
        "  print(f'O valor {valor} se encontra entre 25 e 50')\n",
        "elif valor > 50 and valor <= 75:\n",
        "  print(f'O valor {valor} se encontra entre 50 e 75')\n",
        "elif valor > 75 and valor <= 100:\n",
        "  print(f'O valor {valor} se encontra entre 75 e 100')\n",
        "else:\n",
        "  print('Fora do intervalo')"
      ],
      "metadata": {
        "colab": {
          "base_uri": "https://localhost:8080/"
        },
        "id": "YOXxKFGYMcR3",
        "outputId": "a4bab8ca-720a-4ef2-b00f-256a589b339b"
      },
      "execution_count": null,
      "outputs": [
        {
          "output_type": "stream",
          "name": "stdout",
          "text": [
            "Digite um valor: 100.1\n",
            "Fora do intervalo\n"
          ]
        }
      ]
    }
  ]
}