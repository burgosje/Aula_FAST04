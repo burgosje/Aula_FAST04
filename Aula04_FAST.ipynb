{
  "nbformat": 4,
  "nbformat_minor": 0,
  "metadata": {
    "colab": {
      "provenance": [],
      "authorship_tag": "ABX9TyPrPOcBCMHdjj4JU0nENkVY",
      "include_colab_link": true
    },
    "kernelspec": {
      "name": "python3",
      "display_name": "Python 3"
    },
    "language_info": {
      "name": "python"
    }
  },
  "cells": [
    {
      "cell_type": "markdown",
      "metadata": {
        "id": "view-in-github",
        "colab_type": "text"
      },
      "source": [
        "<a href=\"https://colab.research.google.com/github/burgosje/Aula_FAST04/blob/main/Aula04_FAST.ipynb\" target=\"_parent\"><img src=\"https://colab.research.google.com/assets/colab-badge.svg\" alt=\"Open In Colab\"/></a>"
      ]
    },
    {
      "cell_type": "markdown",
      "source": [
        "Aula 04 FAST Transição"
      ],
      "metadata": {
        "id": "RLc-g2Ibv3UK"
      }
    },
    {
      "cell_type": "markdown",
      "source": [
        "Tipos de dados estruturados"
      ],
      "metadata": {
        "id": "7lTgq1c72WIs"
      }
    },
    {
      "cell_type": "markdown",
      "source": [
        "Lista/Vetores/Array"
      ],
      "metadata": {
        "id": "kHM-52VM2pdz"
      }
    },
    {
      "cell_type": "code",
      "execution_count": null,
      "metadata": {
        "id": "oRckK8IK2J6f"
      },
      "outputs": [],
      "source": [
        "nome do vetor = [valor1, valor2, valor3, ..., valorN]\n",
        "\n",
        "nome do vetor[índice] = novo valor\n",
        "\n",
        "nome do vetor.append(novo valor)\n",
        "\n",
        "nome do vetor.sort(reverse = True)\n",
        "\n",
        "len(nome do vetor)\n",
        "\n",
        "nome do vetor.insert(índice,valor)\n",
        "\n",
        "nome do vetor.pop()"
      ]
    },
    {
      "cell_type": "code",
      "source": [
        "valores = [4, 7, -23, 67]\n",
        "\n",
        "#substituir um valor\n",
        "valores[2] = 8\n",
        "print(valores)\n",
        "\n",
        "#adicionando valores\n",
        "valores.append(1)\n",
        "print(valores)\n",
        "\n",
        "#adicionando valores em índice específico\n",
        "valores.insert(0, 100)\n",
        "print(valores)\n",
        "\n",
        "#colocar vetores em ordem crescente\n",
        "valores.sort()\n",
        "print(valores)\n",
        "\n",
        "#colocar em ordem decrescente\n",
        "valores.reverse()\n",
        "print(valores)\n",
        "\n",
        "#contar quantidade de valores\n",
        "print(len(valores))\n",
        "\n",
        "#armazenar um quantidade em uma variável\n",
        "quant = len(valores)\n",
        "\n",
        "#apagar o último elemento\n",
        "valores.pop()\n",
        "print(valores)\n",
        "\n",
        "#apagar valor em determinada posição\n",
        "valores.pop(1)\n",
        "print(valores)"
      ],
      "metadata": {
        "colab": {
          "base_uri": "https://localhost:8080/"
        },
        "id": "JcqzEW9K3_fL",
        "outputId": "af35ebf3-0fe8-4881-a970-fa2850ad5645"
      },
      "execution_count": null,
      "outputs": [
        {
          "output_type": "stream",
          "name": "stdout",
          "text": [
            "[4, 7, 8, 67]\n",
            "[4, 7, 8, 67, 1]\n",
            "[100, 4, 7, 8, 67, 1]\n",
            "[1, 4, 7, 8, 67, 100]\n",
            "[100, 67, 8, 7, 4, 1]\n",
            "6\n",
            "[100, 67, 8, 7, 4]\n",
            "[100, 8, 7, 4]\n"
          ]
        }
      ]
    },
    {
      "cell_type": "code",
      "source": [
        "nomes = []\n",
        "\n",
        "for i in range(5):\n",
        "  nome = input('Digite um nome: ')\n",
        "  nomes.append(nome)\n",
        "  #nomes.append(input('Digite um nome: ')\n",
        "\n",
        "nomes.sort()\n",
        "\n",
        "print(nomes)"
      ],
      "metadata": {
        "id": "x8-vlS6H4X4R"
      },
      "execution_count": null,
      "outputs": []
    },
    {
      "cell_type": "code",
      "source": [
        "min()\n",
        "max()\n",
        "sum()"
      ],
      "metadata": {
        "id": "jLc5sjzI8A6I"
      },
      "execution_count": null,
      "outputs": []
    },
    {
      "cell_type": "code",
      "source": [
        "notas = [6.0, 8.5, 4.5, 10.0, 9.5]\n",
        "\n",
        "print('A menor nota foi: ', min(notas))\n",
        "print('A maior nota foi:', max(notas))\n",
        "print('A soma de todas as notas foi: ', sum(notas))\n",
        "print('A média da turma foi: ', sum(notas/len(notas)))"
      ],
      "metadata": {
        "id": "Vl2Kt1VZ8hII"
      },
      "execution_count": null,
      "outputs": []
    },
    {
      "cell_type": "code",
      "source": [
        "count()\n",
        "\n",
        "index()\n",
        "\n",
        "len()"
      ],
      "metadata": {
        "id": "ssAX-GBs9C7q"
      },
      "execution_count": null,
      "outputs": []
    },
    {
      "cell_type": "code",
      "source": [
        "notas = []\n",
        "\n",
        "for i in range(5):\n",
        "  notas.append(float(input('Digite a nota: ')))\n",
        "\n",
        "media = sum(notas)/5\n",
        "print(f'A média da turma foi {media:.2f}')\n",
        "\n",
        "for nota in notas:\n",
        "  if nota > media:\n",
        "    print(f'A nota {nota} foi maior que a média')"
      ],
      "metadata": {
        "colab": {
          "base_uri": "https://localhost:8080/"
        },
        "id": "sjIlST6U_l5R",
        "outputId": "c1a90c82-535f-4cd5-e05a-867f0346aef1"
      },
      "execution_count": null,
      "outputs": [
        {
          "output_type": "stream",
          "name": "stdout",
          "text": [
            "Digite a nota: 7\n",
            "Digite a nota: 8\n",
            "Digite a nota: 4\n",
            "Digite a nota: 3\n",
            "Digite a nota: 9.5\n",
            "A média da turma foi 6.30\n",
            "A nota 7.0 foi maior que a média\n",
            "A nota 8.0 foi maior que a média\n",
            "A nota 9.5 foi maior que a média\n"
          ]
        }
      ]
    },
    {
      "cell_type": "code",
      "source": [
        "#Desenvolva um programa que possua dois vetores/listas (A e B) de 5 elementos cada\n",
        "#(o usuário insere os valores nos dois vetores). Crie um terceiro vetor (C) que\n",
        "#seja a união entre os 2 vetores anteriores, ou seja, que contém os números dos\n",
        "#dois vetores. Após isso, apresente:\n",
        "#a) A soma dos números pares do vetor C;\n",
        "#b) A média dos números ímpares do vetor C;\n",
        "#c) O menor valor do vetor C.\n",
        "\n",
        "\n"
      ],
      "metadata": {
        "id": "HosI4tFXCb9a"
      },
      "execution_count": null,
      "outputs": []
    }
  ]
}